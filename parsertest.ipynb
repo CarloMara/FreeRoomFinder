{
 "cells": [
  {
   "cell_type": "code",
   "execution_count": 2,
   "metadata": {},
   "outputs": [],
   "source": [
    "from bs4 import BeautifulSoup\n",
    "import requests\n",
    "import datetime\n",
    "import re"
   ]
  },
  {
   "cell_type": "markdown",
   "metadata": {},
   "source": []
  },
  {
   "cell_type": "code",
   "execution_count": 3,
   "metadata": {},
   "outputs": [],
   "source": [
    "today = datetime.datetime.now()"
   ]
  },
  {
   "cell_type": "markdown",
   "metadata": {},
   "source": [
    "the user agent must be sproofed because "
   ]
  },
  {
   "cell_type": "code",
   "execution_count": 4,
   "metadata": {
    "collapsed": true
   },
   "outputs": [
    {
     "name": "stdout",
     "output_type": "stream",
     "text": [
      "https://gestionedidattica.unipd.it/Aule//index.php?content=gestore_spazi&area=27&day=13&month=02&year=2018&from=07:30:00&to=21:30:00&vista=day&length=30&minCapacity=8&maxCapacity=240\n"
     ]
    }
   ],
   "source": [
    "timetable_page = 'https://gestionedidattica.unipd.it/Aule//index.php?content=gestore_spazi&area=27&day=' + str(today.strftime('%d')) + '&month=' + str(today.strftime('%m')) + '&year=20' + str(today.strftime('%y')) + '&from=07:30:00&to=21:30:00&vista=day&length=30&minCapacity=8&maxCapacity=240'\n",
    "user_agent = {'user-agent': 'Mozilla/5.0 (Windows NT 6.3; rv:36.0) Gecko/20100101 Firefox/36.0'}\n",
    "print(timetable_page)\n"
   ]
  },
  {
   "cell_type": "markdown",
   "metadata": {},
   "source": []
  },
  {
   "cell_type": "code",
   "execution_count": 7,
   "metadata": {},
   "outputs": [],
   "source": [
    "timetable = requests.get(timetable_page, headers=user_agent)"
   ]
  },
  {
   "cell_type": "markdown",
   "metadata": {},
   "source": []
  },
  {
   "cell_type": "code",
   "execution_count": 8,
   "metadata": {},
   "outputs": [],
   "source": [
    "soup = BeautifulSoup(timetable.content, 'html.parser', from_encoding='iso-8859-1')\n"
   ]
  },
  {
   "cell_type": "markdown",
   "metadata": {},
   "source": []
  },
  {
   "cell_type": "code",
   "execution_count": 9,
   "metadata": {},
   "outputs": [],
   "source": [
    "table = soup.find_all('table', class_='tblchk')"
   ]
  },
  {
   "cell_type": "markdown",
   "metadata": {},
   "source": [
    "the table object will"
   ]
  },
  {
   "cell_type": "code",
   "execution_count": 10,
   "metadata": {
    "collapsed": false
   },
   "outputs": [
    {
     "name": "stdout",
     "output_type": "stream",
     "text": [
      "<table border=\"1\" cellpadding=\"3\" cellspacing=\"0\" class=\"tblchk\" width=\"100%\">\n<caption style=\"font-size: 13px; font-weight: bold;\">Aula Be - area POLO DIDATTICO DI VIA GRADENIGO - capienza 220</caption>\n<tr>\n<th width=\"30\"><span style=\"font-weight: bold;\"> </span></th>\n<th width=\"200\"><span style=\"font-weight: bold;\">Giorno</span></th>\n<th width=\"100\"><span style=\"font-weight: bold;\">Ora inizio</span></th>\n<th width=\"100\"><span style=\"font-weight: bold;\">Ora fine</span></th>\n<th width=\"100\"><span style=\"font-weight: bold;\">Ore libere</span></th>\n<th width=\"200\"><span style=\"font-weight: bold;\">Griglia</span></th>\n<th width=\"100\"><span style=\"font-weight: bold;\">Prenota aula</span></th>\n</tr>\n<tr>\n<td>1</td>\n<td>martedì 13-02-2018</td>\n<td>07:30</td>\n<td>09:00</td>\n<td>1 ore, 30 minuti</td>\n<td><a href=\"/Aule/index.php?content=view_prenotazioni&amp;vista=day&amp;area=27&amp;day=13&amp;month=02&amp;year=2018\" target=\"_blank\">giornata</a> / <a href=\"/Aule/index.php?content=view_prenotazioni&amp;vista=week&amp;area=27&amp;room=165&amp;day=13&amp;month=02&amp;year=2018\" target=\"_blank\">settimana</a></td>\n<td><a href=\"/Aule/index.php?content=gestore_add_entry&amp;slice=0&amp;endslice=3&amp;area=27&amp;room=165&amp;day=13&amp;month=02&amp;year=2018&amp;hideEAform=1\" target=\"_blank\">&gt;&gt;</a></td>\n</tr>\n<tr>\n<td>2</td>\n<td>martedì 13-02-2018</td>\n<td>15:00</td>\n<td>21:30</td>\n<td>6 ore, 30 minuti</td>\n<td><a href=\"/Aule/index.php?content=view_prenotazioni&amp;vista=day&amp;area=27&amp;day=13&amp;month=02&amp;year=2018\" target=\"_blank\">giornata</a> / <a href=\"/Aule/index.php?content=view_prenotazioni&amp;vista=week&amp;area=27&amp;room=165&amp;day=13&amp;month=02&amp;year=2018\" target=\"_blank\">settimana</a></td>\n<td><a href=\"/Aule/index.php?content=gestore_add_entry&amp;slice=15&amp;endslice=28&amp;area=27&amp;room=165&amp;day=13&amp;month=02&amp;year=2018&amp;hideEAform=1\" target=\"_blank\">&gt;&gt;</a></td>\n</tr>\n</table>\n"
     ]
    }
   ],
   "source": [
    "print(table[1])"
   ]
  },
  {
   "cell_type": "code",
   "execution_count": 13,
   "metadata": {},
   "outputs": [
    {
     "name": "stdout",
     "output_type": "stream",
     "text": [
      "21\n"
     ]
    }
   ],
   "source": [
    "print(len(table))"
   ]
  },
  {
   "cell_type": "code",
   "execution_count": 14,
   "metadata": {},
   "outputs": [
    {
     "name": "stdout",
     "output_type": "stream",
     "text": [
      "<table border=\"1\" cellpadding=\"3\" cellspacing=\"0\" class=\"tblchk\" width=\"100%\">\n<caption style=\"font-size: 13px; font-weight: bold;\">Aula Saletta Gialla - area POLO DIDATTICO DI VIA GRADENIGO - capienza 15</caption>\n<tr>\n<th width=\"30\"><span style=\"font-weight: bold;\"> </span></th>\n<th width=\"200\"><span style=\"font-weight: bold;\">Giorno</span></th>\n<th width=\"100\"><span style=\"font-weight: bold;\">Ora inizio</span></th>\n<th width=\"100\"><span style=\"font-weight: bold;\">Ora fine</span></th>\n<th width=\"100\"><span style=\"font-weight: bold;\">Ore libere</span></th>\n<th width=\"200\"><span style=\"font-weight: bold;\">Griglia</span></th>\n<th width=\"100\"><span style=\"font-weight: bold;\">Prenota aula</span></th>\n</tr>\n<tr>\n<td>1</td>\n<td>martedì 13-02-2018</td>\n<td>07:30</td>\n<td>21:30</td>\n<td>14 ore</td>\n<td><a href=\"/Aule/index.php?content=view_prenotazioni&amp;vista=day&amp;area=27&amp;day=13&amp;month=02&amp;year=2018\" target=\"_blank\">giornata</a> / <a href=\"/Aule/index.php?content=view_prenotazioni&amp;vista=week&amp;area=27&amp;room=1007&amp;day=13&amp;month=02&amp;year=2018\" target=\"_blank\">settimana</a></td>\n<td><a href=\"/Aule/index.php?content=gestore_add_entry&amp;slice=0&amp;endslice=28&amp;area=27&amp;room=1007&amp;day=13&amp;month=02&amp;year=2018&amp;hideEAform=1\" target=\"_blank\">&gt;&gt;</a></td>\n</tr>\n</table>\n"
     ]
    }
   ],
   "source": [
    "print(table[20])"
   ]
  },
  {
   "cell_type": "markdown",
   "metadata": {},
   "source": []
  },
  {
   "cell_type": "code",
   "execution_count": 11,
   "metadata": {
    "collapsed": true
   },
   "outputs": [],
   "source": [
    "table_decoder = BeautifulSoup(str(table[1]), 'html.parser')"
   ]
  },
  {
   "cell_type": "markdown",
   "metadata": {},
   "source": []
  },
  {
   "cell_type": "code",
   "execution_count": 10,
   "metadata": {
    "collapsed": true
   },
   "outputs": [
    {
     "name": "stdout",
     "output_type": "stream",
     "text": [
      "2.0\n"
     ]
    }
   ],
   "source": [
    "print(len(table_decoder.find_all(\"td\"))/7)"
   ]
  },
  {
   "cell_type": "markdown",
   "metadata": {},
   "source": [
    "the caption"
   ]
  },
  {
   "cell_type": "code",
   "execution_count": 11,
   "metadata": {},
   "outputs": [
    {
     "name": "stdout",
     "output_type": "stream",
     "text": [
      "<td>07:30</td>\n"
     ]
    }
   ],
   "source": [
    "print(table_decoder.find_all(\"td\")[2])"
   ]
  },
  {
   "cell_type": "code",
   "execution_count": 12,
   "metadata": {},
   "outputs": [
    {
     "name": "stdout",
     "output_type": "stream",
     "text": [
      "<td>09:00</td>\n"
     ]
    }
   ],
   "source": [
    "print(table_decoder.find_all(\"td\")[3])"
   ]
  },
  {
   "cell_type": "code",
   "execution_count": 16,
   "metadata": {},
   "outputs": [
    {
     "name": "stdout",
     "output_type": "stream",
     "text": [
      "[<caption style=\"font-size: 13px; font-weight: bold;\">Aula Be - area POLO DIDATTICO DI VIA GRADENIGO - capienza 220</caption>]\n"
     ]
    }
   ],
   "source": [
    "print(table_decoder.find_all(\"caption\"))"
   ]
  },
  {
   "cell_type": "code",
   "execution_count": 31,
   "metadata": {},
   "outputs": [
    {
     "name": "stdout",
     "output_type": "stream",
     "text": [
      "<td>15:00</td>\n"
     ]
    }
   ],
   "source": [
    "print(table_decoder.find_all(\"td\")[9])"
   ]
  },
  {
   "cell_type": "code",
   "execution_count": 32,
   "metadata": {},
   "outputs": [
    {
     "name": "stdout",
     "output_type": "stream",
     "text": [
      "<td>21:30</td>\n"
     ]
    }
   ],
   "source": [
    "print(table_decoder.find_all(\"td\")[10])"
   ]
  },
  {
   "cell_type": "code",
   "execution_count": 38,
   "metadata": {},
   "outputs": [
    {
     "name": "stdout",
     "output_type": "stream",
     "text": [
      "<_sre.SRE_Match object; span=(4, 9), match='21:30'>\n"
     ]
    }
   ],
   "source": [
    "print(re.search('\\d\\d:\\d\\d', str(table_decoder.find_all(\"td\")[10])))"
   ]
  },
  {
   "cell_type": "code",
   "execution_count": 24,
   "metadata": {},
   "outputs": [],
   "source": [
    "p = re.compile('\\d\\d:\\d\\d')"
   ]
  },
  {
   "cell_type": "code",
   "execution_count": 25,
   "metadata": {},
   "outputs": [],
   "source": [
    "p.match(str(table_decoder.find_all(\"td\")[10]))"
   ]
  },
  {
   "cell_type": "code",
   "execution_count": 39,
   "metadata": {},
   "outputs": [],
   "source": [
    "time = re.compile('\\d\\d:\\d\\d')"
   ]
  },
  {
   "cell_type": "code",
   "execution_count": 1,
   "metadata": {},
   "outputs": [
    {
     "ename": "NameError",
     "evalue": "name 're' is not defined",
     "traceback": [
      "\u001b[0;31m---------------------------------------------------------------------------\u001b[0m",
      "\u001b[0;31mNameError\u001b[0m                                 Traceback (most recent call last)",
      "\u001b[0;32m<ipython-input-1-3c6661e6a072>\u001b[0m in \u001b[0;36m<module>\u001b[0;34m()\u001b[0m\n\u001b[0;32m----> 1\u001b[0;31m \u001b[0mtime\u001b[0m \u001b[0;34m=\u001b[0m \u001b[0mre\u001b[0m\u001b[0;34m.\u001b[0m\u001b[0mcompile\u001b[0m\u001b[0;34m(\u001b[0m\u001b[0;34m'\\d\\d:\\d\\d'\u001b[0m\u001b[0;34m)\u001b[0m\u001b[0;34m\u001b[0m\u001b[0m\n\u001b[0m\u001b[1;32m      2\u001b[0m \u001b[0mprint\u001b[0m\u001b[0;34m(\u001b[0m\u001b[0mtime\u001b[0m\u001b[0;34m.\u001b[0m\u001b[0mfindall\u001b[0m\u001b[0;34m(\u001b[0m\u001b[0mstr\u001b[0m\u001b[0;34m(\u001b[0m\u001b[0mtable_decoder\u001b[0m\u001b[0;34m.\u001b[0m\u001b[0mfind_all\u001b[0m\u001b[0;34m(\u001b[0m\u001b[0;34m\"td\"\u001b[0m\u001b[0;34m)\u001b[0m\u001b[0;34m[\u001b[0m\u001b[0;36m10\u001b[0m\u001b[0;34m]\u001b[0m\u001b[0;34m)\u001b[0m\u001b[0;34m)\u001b[0m\u001b[0;34m[\u001b[0m\u001b[0;36m0\u001b[0m\u001b[0;34m]\u001b[0m\u001b[0;34m)\u001b[0m\u001b[0;34m\u001b[0m\u001b[0m\n",
      "\u001b[0;31mNameError\u001b[0m: name 're' is not defined"
     ],
     "output_type": "error"
    }
   ],
   "source": [
    "time = re.compile('\\d\\d:\\d\\d')\n",
    "print(time.findall(str(table_decoder.find_all(\"td\")[10]))[0])"
   ]
  },
  {
   "cell_type": "markdown",
   "metadata": {},
   "source": [
    "Aula .. "
   ]
  },
  {
   "cell_type": "code",
   "execution_count": 46,
   "metadata": {},
   "outputs": [
    {
     "name": "stdout",
     "output_type": "stream",
     "text": [
      "Aula Be \n"
     ]
    }
   ],
   "source": [
    "room_name = re.compile('Aula .. ')\n",
    "print(room_name.findall(str(table_decoder.find_all(\"caption\")))[0])"
   ]
  },
  {
   "cell_type": "code",
   "execution_count": null,
   "metadata": {},
   "outputs": [],
   "source": []
  }
 ],
 "metadata": {
  "kernelspec": {
   "display_name": "Python 2",
   "language": "python",
   "name": "python2"
  },
  "language_info": {
   "codemirror_mode": {
    "name": "ipython",
    "version": 2
   },
   "file_extension": ".py",
   "mimetype": "text/x-python",
   "name": "python",
   "nbconvert_exporter": "python",
   "pygments_lexer": "ipython2",
   "version": "2.7.6"
  }
 },
 "nbformat": 4,
 "nbformat_minor": 0
}
